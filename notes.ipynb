{
 "cells": [
  {
   "cell_type": "markdown",
   "metadata": {},
   "source": [
    "# Project description\n",
    "Type 1 diabetes is a disease which results from loss of the beta cells within the pancreas.  Such cells produce insulin, which controls the glucose level in your blood.  When glocuse is too high one feels sick, and verve damage is possible.  When glucose is too low I can go unconciouss, and there is a risk of falling into a coma."
   ]
  },
  {
   "cell_type": "markdown",
   "metadata": {},
   "source": [
    "## Analysis and Data exploration\n",
    "In this section we look at the raw data a bit... We propose the $\\Gamma$-hypothesis based on visuals and physical grounds."
   ]
  },
  {
   "cell_type": "markdown",
   "metadata": {},
   "source": [
    "## Models\n",
    "In this section we introduce a few models which we will try to fit.\n",
    "\n",
    "### Model 1:\n",
    "Let $g(t)$ denote the blood glucose level at time $t$.  Assume insulin is administered at times $\\{ t_{i,k} \\}_{k=1}^{N_i}$ and food intake at times $\\{ t_{f,k} \\}_{k=1}^{N_f}$\n",
    "the most simple model which adpots the $\\Gamma$-hypothesis would be\n",
    "\n",
    "$$\n",
    "    g(t) = g(0) + c_i \\left( \\sum_{t_{i,k} < t } \\int_{t_{i,k}}^t \\frac{\\tau}{\\lambda_i} e^{-\\tau / \\lambda_i} d\\tau \\right)\n",
    "        + c_f \\left( \\sum_{t_{f,j} < t } \\int_{t_{f,j} }^t \\frac{\\tau}{\\lambda_f} e^{-\\tau / \\lambda_f } d\\tau \\right) + Noise.\n",
    "$$\n",
    "This might be a good model to try first.  One critique is that it allows for the implausible cases where $g(t) < 0$.\n",
    "\n",
    "### Model 2:\n",
    "To prohibit negative glucose predictions we could introduce the auxiliary variable $x(t) = \\log(g(t))$ and consider the model:\n",
    "$$\n",
    "    x(t) = x(0) + c_i \\left( \\sum_{t_{i,k} < t } \\int_{t_{i,k}}^t \\frac{\\tau}{\\lambda_i} e^{-\\tau / \\lambda_i} d\\tau \\right)\n",
    "        + c_f \\left( \\sum_{t_{f,j} < t } \\int_{t_{f,j} }^t \\frac{\\tau}{\\lambda_f} e^{-\\tau / \\lambda_f } d\\tau \\right) + Noise.\n",
    "$$\n",
    "One could still make a similar critique.  Glocuse reading can only be so high: eventually physical process, such as the blood's chemical saturation level prevent higher glucose levels.\n",
    "\n",
    "### Model 3:\n",
    "To prohibit unusually high glucose readings we consider a function which diverges to infinity at $600$ mg/dL and diverges to negative infinity at zero.  For example, we could consider a rescaled and offset `arctanh` function.\n",
    "We will consider the auxiliary variable\n",
    "$$\n",
    "    x(t) = {\\rm arctanh}\\left( \\frac{2 g(t)}{g_{\\rm max} } -1 \\right)\n",
    "$$\n",
    "and again consider the model:\n",
    "$$\n",
    "    x(t) = x(0) + c_i \\left( \\sum_{t_{i,k} < t } \\int_{t_{i,k}}^t \\frac{\\tau}{\\lambda_i} e^{-\\tau / \\lambda_i} d\\tau \\right)\n",
    "        + c_f \\left( \\sum_{t_{f,j} < t } \\int_{t_{f,j} }^t \\frac{\\tau}{\\lambda_f} e^{-\\tau / \\lambda_f } d\\tau \\right) + Noise.\n",
    "$$\n",
    "\n",
    "### Models 4,5,6:\n",
    "I notice that my insuling sensitivity at Lunch is typically lower than my insulin sensitivity at breakfast.  Perhaps I should break the day into three parts, and consider difference coefficients for each time of day.\n"
   ]
  },
  {
   "cell_type": "markdown",
   "metadata": {},
   "source": [
    "## Implementation\n",
    "We desire to fit the parameter tuple $\\theta = (\\lambda_i,\\lambda_f,c_i,c_f)$ to our data.\n",
    "Our data is given by trajectories $x_\\alpha(t)$ for $\\alpha = 1,\\dots,N$.\n",
    "For each model we consider the cost function\n",
    "$$\n",
    "    C(\\theta) = \\sum_{\\alpha=1}^N \\| x_\\alpha - x_{pred,\\alpha}( \\theta ) \\|_{L_1}\n",
    "$$\n",
    "where the predicted trajectory is given by\n",
    "$$\n",
    "    x_{pred,\\alpha}(\\theta)(t) = x_\\alpha(0) + c_i \\left( \\sum_{t_{i,k}<t} G(t,\\lambda_i) \\right) +  c_f \\left( \\sum_{t_{i,k}<t} G(t,\\lambda_f) \\right)\n",
    "$$\n",
    "We preform minimization using scipy's optimization module."
   ]
  },
  {
   "cell_type": "markdown",
   "metadata": {},
   "source": [
    "## Results\n",
    "We did okay. Need more data probably"
   ]
  },
  {
   "cell_type": "markdown",
   "metadata": {},
   "source": [
    "## Conclusion\n",
    "Customized medicine"
   ]
  },
  {
   "cell_type": "code",
   "execution_count": null,
   "metadata": {
    "collapsed": true
   },
   "outputs": [],
   "source": []
  }
 ],
 "metadata": {
  "kernelspec": {
   "display_name": "Python 2",
   "language": "python",
   "name": "python2"
  },
  "language_info": {
   "codemirror_mode": {
    "name": "ipython",
    "version": 2
   },
   "file_extension": ".py",
   "mimetype": "text/x-python",
   "name": "python",
   "nbconvert_exporter": "python",
   "pygments_lexer": "ipython2",
   "version": "2.7.11"
  }
 },
 "nbformat": 4,
 "nbformat_minor": 0
}
